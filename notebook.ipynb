{
 "cells": [
  {
   "cell_type": "markdown",
   "metadata": {},
   "source": [
    "# MongoDB Vector Search Demo"
   ]
  },
  {
   "cell_type": "markdown",
   "metadata": {},
   "source": [
    "## Connect to MongoDB and OpenAI"
   ]
  },
  {
   "cell_type": "code",
   "execution_count": null,
   "metadata": {},
   "outputs": [],
   "source": [
    "import pymongo\n",
    "from _secrets import OPENAI_API_KEY, MONGODB_URI\n",
    "import os\n",
    "\n",
    "os.environ[\"OPENAI_API_KEY\"] = OPENAI_API_KEY\n",
    "client = pymongo.MongoClient(MONGODB_URI)\n",
    "\n",
    "db_name = 'vector_search_demo'\n",
    "collection_name = 'documents'\n",
    "index_name = 'vector_index'\n",
    "\n",
    "db = client[db_name]\n",
    "db.drop_collection(collection_name)"
   ]
  },
  {
   "cell_type": "markdown",
   "metadata": {},
   "source": [
    "## Create Vector Search index"
   ]
  },
  {
   "cell_type": "code",
   "execution_count": null,
   "metadata": {},
   "outputs": [],
   "source": [
    "collection = db.create_collection(collection_name)\n",
    "\n",
    "vector_index = {\n",
    "  \"definition\": {\n",
    "    \"fields\": [\n",
    "      {\n",
    "        \"numDimensions\": 1536,\n",
    "        \"path\": \"embedding\",\n",
    "        \"similarity\": \"cosine\",\n",
    "        \"type\": \"vector\"\n",
    "      },\n",
    "      {\n",
    "        \"path\": \"page\",\n",
    "        \"type\": \"filter\"\n",
    "      }\n",
    "    ]\n",
    "  },\n",
    "  \"name\": index_name,\n",
    "  \"type\": \"vectorSearch\"\n",
    "}\n",
    "\n",
    "db.command({\n",
    "  \"createSearchIndexes\": collection_name,\n",
    "  \"indexes\": [vector_index]\n",
    "})"
   ]
  },
  {
   "cell_type": "markdown",
   "metadata": {},
   "source": [
    "## Load sample PDF, chunk, and generate embeddings "
   ]
  },
  {
   "cell_type": "code",
   "execution_count": null,
   "metadata": {},
   "outputs": [],
   "source": [
    "from langchain_community.document_loaders import PyPDFLoader\n",
    "from langchain_mongodb import MongoDBAtlasVectorSearch\n",
    "from langchain_openai import OpenAIEmbeddings\n",
    "from langchain.text_splitter import TokenTextSplitter\n",
    "\n",
    "loader = PyPDFLoader(\"./sample.pdf\")\n",
    "data = loader.load()\n",
    "\n",
    "text_splitter = TokenTextSplitter(chunk_size=512, chunk_overlap=100)\n",
    "docs = text_splitter.split_documents(data)\n",
    "\n",
    "vector_search = MongoDBAtlasVectorSearch.from_documents(\n",
    "  documents = docs,\n",
    "  embedding = OpenAIEmbeddings(disallowed_special=()),\n",
    "  collection = collection,\n",
    "  index_name = index_name\n",
    ")"
   ]
  },
  {
   "cell_type": "markdown",
   "metadata": {},
   "source": [
    "## Convert text query to vector embedding"
   ]
  },
  {
   "cell_type": "code",
   "execution_count": null,
   "metadata": {},
   "outputs": [],
   "source": [
    "query = 'MongoDB Atlas security'\n",
    "query_embedding = OpenAIEmbeddings().embed_query(text=query)\n",
    "\n",
    "query_embedding"
   ]
  },
  {
   "cell_type": "markdown",
   "metadata": {},
   "source": [
    "## Semantic search for relevant chunks of documents\n",
    "### MongoDB Aggregation"
   ]
  },
  {
   "cell_type": "code",
   "execution_count": null,
   "metadata": {},
   "outputs": [],
   "source": [
    "\n",
    "res = collection.aggregate([\n",
    "  { '$vectorSearch': {\n",
    "    'index': index_name,\n",
    "    'path': 'embedding',\n",
    "    'queryVector': query_embedding,\n",
    "    'numCandidates': 40,\n",
    "    'limit': 4\n",
    "  }},\n",
    "  { '$project': {\n",
    "    '_id': 0,\n",
    "    'text': 1\n",
    "  } }\n",
    "])\n",
    "\n",
    "list(res)"
   ]
  },
  {
   "cell_type": "markdown",
   "metadata": {},
   "source": [
    "### Langchain Similarity Search"
   ]
  },
  {
   "cell_type": "code",
   "execution_count": null,
   "metadata": {},
   "outputs": [],
   "source": [
    "vector_search.similarity_search(query)"
   ]
  },
  {
   "cell_type": "markdown",
   "metadata": {},
   "source": [
    "### Layer on filters and scores"
   ]
  },
  {
   "cell_type": "code",
   "execution_count": null,
   "metadata": {},
   "outputs": [],
   "source": [
    "vector_search.similarity_search_with_score(\n",
    "  query = query,\n",
    "  pre_filter = { \"page\": { \"$in\": [17, 18] } }\n",
    ")"
   ]
  },
  {
   "cell_type": "markdown",
   "metadata": {},
   "source": [
    "## Build a RAG chain"
   ]
  },
  {
   "cell_type": "code",
   "execution_count": null,
   "metadata": {},
   "outputs": [],
   "source": [
    "from langchain_core.output_parsers import StrOutputParser\n",
    "from langchain_core.runnables import RunnablePassthrough\n",
    "from langchain_openai import ChatOpenAI\n",
    "from langchain.prompts import PromptTemplate\n",
    "\n",
    "retriever = vector_search.as_retriever(\n",
    "  search_type = \"similarity\",\n",
    "  search_kwargs = {\"k\": 10, \"score_threshold\": 0.75}\n",
    ")\n",
    "\n",
    "template = \"\"\"\n",
    "Use the following pieces of context to answer the question at the end.\n",
    "If you don't know the answer, just say that you don't know, don't try to make up an answer.\n",
    "Take a deep breath and answer step by step.\n",
    "{context}\n",
    "Question: {question}\n",
    "\"\"\"\n",
    "custom_rag_prompt = PromptTemplate.from_template(template)\n",
    "llm = ChatOpenAI()\n",
    "\n",
    "def format_docs(docs):\n",
    "  return \"\\n\\n\".join(doc.page_content for doc in docs)\n",
    "\n",
    "rag_chain = (\n",
    "  { \"context\": retriever | format_docs, \"question\": RunnablePassthrough()}\n",
    "  | custom_rag_prompt\n",
    "  | llm\n",
    "  | StrOutputParser()\n",
    ")"
   ]
  },
  {
   "cell_type": "markdown",
   "metadata": {},
   "source": [
    "## Prompt the chain"
   ]
  },
  {
   "cell_type": "code",
   "execution_count": null,
   "metadata": {},
   "outputs": [],
   "source": [
    "question = \"How can I secure my MongoDB clusters?\"\n",
    "rag_chain.invoke(question)"
   ]
  },
  {
   "cell_type": "markdown",
   "metadata": {},
   "source": [
    "### Display the context used"
   ]
  },
  {
   "cell_type": "code",
   "execution_count": null,
   "metadata": {},
   "outputs": [],
   "source": [
    "retriever.invoke(question)"
   ]
  }
 ],
 "metadata": {
  "kernelspec": {
   "display_name": ".env",
   "language": "python",
   "name": "python3"
  },
  "language_info": {
   "codemirror_mode": {
    "name": "ipython",
    "version": 3
   },
   "file_extension": ".py",
   "mimetype": "text/x-python",
   "name": "python",
   "nbconvert_exporter": "python",
   "pygments_lexer": "ipython3",
   "version": "3.9.6"
  }
 },
 "nbformat": 4,
 "nbformat_minor": 2
}
